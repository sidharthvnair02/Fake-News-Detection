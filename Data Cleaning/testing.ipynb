{
 "cells": [
  {
   "cell_type": "code",
   "execution_count": 1,
   "metadata": {},
   "outputs": [
    {
     "name": "stdout",
     "output_type": "stream",
     "text": [
      "The news seems to be True.\n"
     ]
    }
   ],
   "source": [
    "import joblib\n",
    "\n",
    "def fake_news_checker(test_eg): \n",
    "    filename = 'pipeline.sav'\n",
    "    loaded_model = joblib.load(filename)\n",
    "    result = loaded_model.predict([test_eg])\n",
    "    if result==[1]:\n",
    "        print(\"The news seems to be True.\")\n",
    "    else:\n",
    "        print(\"The news seems to be Fake.\")\n",
    "\n",
    "test_eg = \"Nusaiba Energy costs are the highest in 15 years.Morgan LuttrellFebruary 16, 2023\"\n",
    "fake_news_checker(test_eg)\n"
   ]
  },
  {
   "cell_type": "code",
   "execution_count": 2,
   "metadata": {},
   "outputs": [
    {
     "name": "stdout",
     "output_type": "stream",
     "text": [
      "The news seems to be Fake.\n"
     ]
    }
   ],
   "source": [
    "test_eg = \"Maria,“La NASA advierte que el sol podría dejar de brillar y causar una catástrofe”.,Facebook posts,April 14, 2023 \"\n",
    "fake_news_checker(test_eg)"
   ]
  }
 ],
 "metadata": {
  "kernelspec": {
   "display_name": "Python 3",
   "language": "python",
   "name": "python3"
  },
  "language_info": {
   "codemirror_mode": {
    "name": "ipython",
    "version": 3
   },
   "file_extension": ".py",
   "mimetype": "text/x-python",
   "name": "python",
   "nbconvert_exporter": "python",
   "pygments_lexer": "ipython3",
   "version": "3.9.6"
  },
  "orig_nbformat": 4
 },
 "nbformat": 4,
 "nbformat_minor": 2
}
